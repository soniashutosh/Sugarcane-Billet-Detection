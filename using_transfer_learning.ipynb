{
  "cells": [
    {
      "cell_type": "code",
      "execution_count": null,
      "metadata": {
        "colab": {
          "base_uri": "https://localhost:8080/"
        },
        "id": "FrI56YlDabln",
        "outputId": "f26d2846-c4a6-484b-dd83-486baa5a859c"
      },
      "outputs": [
        {
          "output_type": "execute_result",
          "data": {
            "text/plain": [
              "(1736, 315, 381, 321, 121)"
            ]
          },
          "metadata": {},
          "execution_count": 17
        }
      ],
      "source": [
        "import torch,torchvision\n",
        "from torchvision import datasets,models,transforms\n",
        "import torch.nn as nn\n",
        "import torch.optim as optim\n",
        "from torch.utils.data import DataLoader\n",
        "import time\n",
        "from torchsummary import summary\n",
        "\n",
        "import numpy as np\n",
        "import matplotlib.pyplot as plt\n",
        "import os\n",
        "\n",
        "from PIL import Image\n",
        "\n",
        "image_transforms = {\n",
        "    'train': transforms.Compose([\n",
        "          transforms.Resize((750,200)),\n",
        "          # transforms.CenterCrop(size={600,60}),\n",
        "          transforms.ToTensor(),\n",
        "          transforms.Normalize([0.485,0.456,0.406],\n",
        "                               [0.229,0.224,0.225])\n",
        "    ])\n",
        "}\n",
        "\n",
        "num_classes = 2\n",
        "DATASET_X1 = '/content/drive/MyDrive/Deep Learning/SugarCane_Quality/data/HoCP09-804'\n",
        "DATASET_X2 = '/content/drive/MyDrive/Deep Learning/SugarCane_Quality/data/HoCP96-540'\n",
        "DATASET_X3 = '/content/drive/MyDrive/Deep Learning/SugarCane_Quality/data/L01-299'\n",
        "CATAGORIES = [\"damaged\",\"good\"]\n",
        "\n",
        "data = {\n",
        "    'data1': datasets.ImageFolder(DATASET_X1,transform=image_transforms['train']),\n",
        "    'data2': datasets.ImageFolder(DATASET_X2,transform=image_transforms['train']),\n",
        "    'data3': datasets.ImageFolder(DATASET_X3,transform=image_transforms['train'])\n",
        "}\n",
        "\n",
        "data1 = DataLoader(data['data1'],batch_size=1,shuffle=True)\n",
        "data2 = DataLoader(data['data2'],batch_size=1,shuffle=True)\n",
        "data3 = DataLoader(data['data3'],batch_size=1,shuffle=True)\n",
        "\n",
        "training_data = []\n",
        "validation_data = []\n",
        "testing_data_1 = []\n",
        "testing_data_2 = []\n",
        "testing_data_3 = []\n",
        "\n",
        "def create_data():\n",
        "  i = 0\n",
        "  l1 = len(data1)\n",
        "  for ele in data1:\n",
        "    if i < (7*l1/11):\n",
        "      training_data.append(ele)\n",
        "    elif i < (8*l1/11):\n",
        "      validation_data.append(ele)\n",
        "    else:\n",
        "      testing_data_1.append(ele)\n",
        "    i+=1\n",
        "  \n",
        "  i = 0\n",
        "  l1 = len(data2)\n",
        "  for ele in data2:\n",
        "    if i < (6*l1/10):\n",
        "      training_data.append(ele)\n",
        "    elif i < (7*l1/10):\n",
        "      validation_data.append(ele)\n",
        "    else:\n",
        "      testing_data_2.append(ele)\n",
        "    i+=1\n",
        "\n",
        "  i = 0\n",
        "  l1 = len(data3)\n",
        "  for ele in data3:\n",
        "    if i < (5*l1/10):\n",
        "      training_data.append(ele)\n",
        "    elif i < (7*l1/10):\n",
        "      validation_data.append(ele)\n",
        "    else:\n",
        "      testing_data_3.append(ele)\n",
        "    i+=1\n",
        "\n",
        "\n",
        "create_data()\n",
        "\n",
        "import random\n",
        "\n",
        "random.shuffle(training_data)\n",
        "\n",
        "len(training_data),len(validation_data),len(testing_data_1),len(testing_data_2),len(testing_data_3)\n"
      ]
    },
    {
      "cell_type": "code",
      "execution_count": null,
      "metadata": {
        "colab": {
          "base_uri": "https://localhost:8080/"
        },
        "id": "ICE4dEFkafqz",
        "outputId": "39cabbea-53c4-4a7e-8222-4b7cc05121c4"
      },
      "outputs": [
        {
          "output_type": "stream",
          "name": "stdout",
          "text": [
            "Epoch: 1/20\n",
            "Epoch : 001, Training: Loss: 1.3397, Accuracy: 53.6290%, \n",
            "\t\tValidation : Loss : 0.6624, Accuracy: 61.2698%, Time: 80.9273s\n",
            "Epoch: 2/20\n",
            "Epoch : 002, Training: Loss: 0.8766, Accuracy: 61.4055%, \n",
            "\t\tValidation : Loss : 0.5838, Accuracy: 69.2063%, Time: 81.0528s\n",
            "Epoch: 3/20\n",
            "Epoch : 003, Training: Loss: 0.8134, Accuracy: 69.4700%, \n",
            "\t\tValidation : Loss : 0.5250, Accuracy: 79.3651%, Time: 81.1751s\n",
            "Epoch: 4/20\n",
            "Epoch : 004, Training: Loss: 0.7771, Accuracy: 71.8318%, \n",
            "\t\tValidation : Loss : 0.5342, Accuracy: 78.0952%, Time: 81.0796s\n",
            "Epoch: 5/20\n",
            "Epoch : 005, Training: Loss: 0.6467, Accuracy: 74.5392%, \n",
            "\t\tValidation : Loss : 0.6194, Accuracy: 74.2857%, Time: 81.0354s\n",
            "Epoch: 6/20\n",
            "Epoch : 006, Training: Loss: 0.6473, Accuracy: 77.8802%, \n",
            "\t\tValidation : Loss : 0.6605, Accuracy: 78.7302%, Time: 81.0038s\n",
            "Epoch: 7/20\n",
            "Epoch : 007, Training: Loss: 0.5380, Accuracy: 79.7235%, \n",
            "\t\tValidation : Loss : 0.8224, Accuracy: 74.9206%, Time: 81.0699s\n",
            "Epoch: 8/20\n",
            "Epoch : 008, Training: Loss: 0.5312, Accuracy: 81.3940%, \n",
            "\t\tValidation : Loss : 0.5778, Accuracy: 81.5873%, Time: 80.9359s\n",
            "Epoch: 9/20\n",
            "Epoch : 009, Training: Loss: 0.5040, Accuracy: 83.6406%, \n",
            "\t\tValidation : Loss : 0.6625, Accuracy: 76.1905%, Time: 80.8926s\n",
            "Epoch: 10/20\n",
            "Epoch : 010, Training: Loss: 0.4491, Accuracy: 84.2166%, \n",
            "\t\tValidation : Loss : 0.6502, Accuracy: 79.6825%, Time: 80.7230s\n",
            "Epoch: 11/20\n",
            "Epoch : 011, Training: Loss: 0.4284, Accuracy: 85.4839%, \n",
            "\t\tValidation : Loss : 0.7434, Accuracy: 78.4127%, Time: 80.6922s\n",
            "Epoch: 12/20\n",
            "Epoch : 012, Training: Loss: 0.4740, Accuracy: 85.8295%, \n",
            "\t\tValidation : Loss : 0.6858, Accuracy: 78.7302%, Time: 80.4999s\n",
            "Epoch: 13/20\n",
            "Epoch : 013, Training: Loss: 0.4033, Accuracy: 87.0392%, \n",
            "\t\tValidation : Loss : 0.5788, Accuracy: 80.9524%, Time: 80.4028s\n",
            "Epoch: 14/20\n",
            "Epoch : 014, Training: Loss: 0.3764, Accuracy: 87.7304%, \n",
            "\t\tValidation : Loss : 0.5579, Accuracy: 80.3175%, Time: 80.2548s\n",
            "Epoch: 15/20\n",
            "Epoch : 015, Training: Loss: 0.3488, Accuracy: 88.7097%, \n",
            "\t\tValidation : Loss : 0.6658, Accuracy: 80.3175%, Time: 80.5164s\n",
            "Epoch: 16/20\n",
            "Epoch : 016, Training: Loss: 0.4150, Accuracy: 90.2650%, \n",
            "\t\tValidation : Loss : 1.2010, Accuracy: 79.0476%, Time: 80.3253s\n",
            "Epoch: 17/20\n",
            "Epoch : 017, Training: Loss: 0.3092, Accuracy: 91.0138%, \n",
            "\t\tValidation : Loss : 0.6935, Accuracy: 81.9048%, Time: 80.2203s\n",
            "Epoch: 18/20\n",
            "Epoch : 018, Training: Loss: 0.2756, Accuracy: 91.7051%, \n",
            "\t\tValidation : Loss : 0.9271, Accuracy: 79.6825%, Time: 80.1514s\n",
            "Epoch: 19/20\n",
            "Epoch : 019, Training: Loss: 0.2756, Accuracy: 92.3963%, \n",
            "\t\tValidation : Loss : 1.4367, Accuracy: 78.0952%, Time: 80.2868s\n",
            "Epoch: 20/20\n",
            "Epoch : 020, Training: Loss: 0.3110, Accuracy: 92.8571%, \n",
            "\t\tValidation : Loss : 1.2542, Accuracy: 78.4127%, Time: 80.2009s\n"
          ]
        }
      ],
      "source": [
        "alexnet = models.alexnet(pretrained=True)\n",
        "\n",
        "# Freeze Model Parameters\n",
        "i = 0\n",
        "for param in alexnet.parameters():\n",
        "  i += 1\n",
        "  param.requires_grad = False\n",
        "  if i >= 9:\n",
        "    break\n",
        "\n",
        "alexnet.classifier[6] = nn.Linear(4096,2)\n",
        "alexnet.classifier.add_module(\"7\",nn.LogSoftmax(dim=1))\n",
        "\n",
        "# Define Optimizer and Loss function\n",
        "loss_func = nn.NLLLoss()\n",
        "optimizer = optim.Adam(alexnet.parameters())\n",
        "\n",
        "\n",
        "def train_and_validate(model,loss_criterion,optimizer,epochs=25):\n",
        "  start = time.time()\n",
        "  history = []\n",
        "  best_acc = 0.0\n",
        "\n",
        "  for epoch in range(epochs):\n",
        "    epoch_start = time.time()\n",
        "    print(\"Epoch: {}/{}\".format(epoch+1,epochs))\n",
        "\n",
        "    # Set to training mode\n",
        "    model.train()\n",
        "\n",
        "    # Loss and accuracy within the epoch\n",
        "    train_loss = 0.0\n",
        "    train_acc = 0.0\n",
        "\n",
        "    valid_loss = 0.0\n",
        "    valid_acc = 0.0\n",
        "\n",
        "    for i,(inputs,labels) in enumerate(training_data):\n",
        "      inputs = inputs.to(device)\n",
        "      labels = labels.to(device)\n",
        "\n",
        "      # Clean existing gradients\n",
        "      optimizer.zero_grad()\n",
        "\n",
        "      if torch.cuda.is_available():\n",
        "        model.cuda()\n",
        "\n",
        "      # Forward pass - compute outputs on input data using the model\n",
        "      outputs = model(inputs)\n",
        "\n",
        "      # Compute loss\n",
        "      loss = loss_criterion(outputs,labels)\n",
        "\n",
        "      # Backpropagate the error\n",
        "      loss.backward()\n",
        "\n",
        "      # Update the parameters\n",
        "      optimizer.step()\n",
        "\n",
        "      # Compute the total loss for the batch and add it to train loss\n",
        "      train_loss += loss.item() * inputs.size(0)\n",
        "\n",
        "      ret, predictions = torch.max(outputs.data,1)\n",
        "      correct_counts = predictions.eq(labels.data.view_as(predictions))\n",
        "\n",
        "      acc = torch.mean(correct_counts.type(torch.FloatTensor))\n",
        "\n",
        "      train_acc += acc.item() * inputs.size(0)\n",
        "\n",
        "    with torch.no_grad():\n",
        "      model.eval()\n",
        "\n",
        "      for j,(inputs,labels) in enumerate(validation_data):\n",
        "        inputs = inputs.to(device)\n",
        "        labels = labels.to(device)\n",
        "\n",
        "        if torch.cuda.is_available():\n",
        "          model.cuda()\n",
        "        outputs = model(inputs)\n",
        "\n",
        "        loss = loss_criterion(outputs,labels)\n",
        "\n",
        "        valid_loss += loss.item() * inputs.size(0)\n",
        "\n",
        "        ret, predictions = torch.max(outputs.data,1)\n",
        "        correct_counts = predictions.eq(labels.data.view_as(predictions))\n",
        "\n",
        "        acc = torch.mean(correct_counts.type(torch.FloatTensor))\n",
        "\n",
        "        valid_acc += acc.item() * inputs.size(0)\n",
        "\n",
        "      avg_train_loss = train_loss/len(training_data)\n",
        "      avg_train_acc = train_acc/len(training_data)\n",
        "\n",
        "      avg_valid_loss = valid_loss/len(validation_data)\n",
        "      avg_valid_acc = valid_acc/len(validation_data)\n",
        "\n",
        "      history.append([avg_train_loss,avg_valid_loss,avg_train_acc,avg_valid_acc])\n",
        "\n",
        "      epoch_end = time.time()\n",
        "\n",
        "      print(\"Epoch : {:03d}, Training: Loss: {:.4f}, Accuracy: {:.4f}%, \\n\\t\\tValidation : Loss : {:.4f}, Accuracy: {:.4f}%, Time: {:.4f}s\".format(epoch+1, avg_train_loss, avg_train_acc*100, avg_valid_loss, avg_valid_acc*100, epoch_end-epoch_start))\n",
        "\n",
        "  return model,history\n",
        "\n",
        "\n",
        "device = torch.device(\"cuda:0\" if torch.cuda.is_available() else \"cpu\")\n",
        "\n",
        "num_epochs = 20\n",
        "trained_model, history = train_and_validate(alexnet,loss_func,optimizer,num_epochs)\n",
        "\n",
        "torch.save(history,'/content/drive/MyDrive/Deep Learning/SugarCane_Quality/1_history.pt')\n"
      ]
    },
    {
      "cell_type": "code",
      "execution_count": null,
      "metadata": {
        "id": "D3k_3zT9a6-n",
        "colab": {
          "base_uri": "https://localhost:8080/"
        },
        "outputId": "c4807185-7590-48bb-b6aa-2f31b6948017"
      },
      "outputs": [
        {
          "output_type": "stream",
          "name": "stdout",
          "text": [
            "Testing data 1: \n",
            "78.47769028871392\n",
            "Testing data 2: \n",
            "77.88161993769471\n",
            "Testing data 3: \n",
            "81.81818181818181\n"
          ]
        }
      ],
      "source": [
        "PATH = '/content/drive/MyDrive/Deep Learning/SugarCane_Quality' + 'model3.pt'\n",
        "torch.save(trained_model.state_dict(), PATH)\n",
        "\n",
        "device = torch.device(\"cuda:0\" if torch.cuda.is_available() else \"cpu\")\n",
        "\n",
        "#  For Testing data 1\n",
        "correct = 0\n",
        "total = 0\n",
        "\n",
        "for i,(inputs,labels) in enumerate(testing_data_1):\n",
        "  inputs = inputs.to(device)\n",
        "  labels = labels.to(device)\n",
        "\n",
        "  if torch.cuda.is_available():\n",
        "    trained_model.cuda()\n",
        "\n",
        "  outputs = trained_model(inputs)\n",
        "  loss = loss_func(outputs,labels)\n",
        "  out = 0\n",
        "  if outputs[0][0] > outputs[0][1]:\n",
        "    out = 0\n",
        "  else:\n",
        "    out = 1\n",
        "  if labels == torch.tensor([0], device='cuda:0'):\n",
        "    out1 = 0\n",
        "  else:\n",
        "    out1 = 1\n",
        "\n",
        "  if out == out1:\n",
        "    correct+=1\n",
        "  \n",
        "  total += 1\n",
        "\n",
        "print(\"Testing data 1: \")\n",
        "print((correct*100.0)/total)\n",
        "\n",
        "\n",
        "# For Testing data 2\n",
        "correct = 0\n",
        "total = 0\n",
        "\n",
        "for i,(inputs,labels) in enumerate(testing_data_2):\n",
        "  inputs = inputs.to(device)\n",
        "  labels = labels.to(device)\n",
        "\n",
        "  if torch.cuda.is_available():\n",
        "    trained_model.cuda()\n",
        "\n",
        "  outputs = trained_model(inputs)\n",
        "  loss = loss_func(outputs,labels)\n",
        "  out = 0\n",
        "  if outputs[0][0] > outputs[0][1]:\n",
        "    out = 0\n",
        "  else:\n",
        "    out = 1\n",
        "  if labels == torch.tensor([0], device='cuda:0'):\n",
        "    out1 = 0\n",
        "  else:\n",
        "    out1 = 1\n",
        "\n",
        "  if out == out1:\n",
        "    correct+=1\n",
        "  \n",
        "  total += 1\n",
        "\n",
        "print(\"Testing data 2: \")\n",
        "print((correct*100.0)/total)\n",
        "\n",
        "# For Testing data 2\n",
        "correct = 0\n",
        "total = 0\n",
        "\n",
        "y_train = []\n",
        "y_predicted = []\n",
        "\n",
        "\n",
        "for i,(inputs,labels) in enumerate(testing_data_3):\n",
        "  inputs = inputs.to(device)\n",
        "  labels = labels.to(device)\n",
        "\n",
        "  if torch.cuda.is_available():\n",
        "    trained_model.cuda()\n",
        "\n",
        "  outputs = trained_model(inputs)\n",
        "  loss = loss_func(outputs,labels)\n",
        "  out = 0\n",
        "  if outputs[0][0] > outputs[0][1]:\n",
        "    out = 0\n",
        "    y_predicted.append(0)\n",
        "  else:\n",
        "    out = 1\n",
        "    y_predicted.append(1)\n",
        "  if labels == torch.tensor([0], device='cuda:0'):\n",
        "    out1 = 0\n",
        "    y_train.append(0)\n",
        "  else:\n",
        "    out1 = 1\n",
        "    y_train.append(1)\n",
        "\n",
        "  if out == out1:\n",
        "    correct+=1\n",
        "  \n",
        "  total += 1\n",
        "\n",
        "print(\"Testing data 3: \")\n",
        "print((correct*100.0)/total)\n"
      ]
    },
    {
      "cell_type": "code",
      "execution_count": null,
      "metadata": {
        "id": "2IL4eo6xa7hu",
        "colab": {
          "base_uri": "https://localhost:8080/",
          "height": 283
        },
        "outputId": "70fb0217-3074-48ba-b0ce-bba1a7efe34d"
      },
      "outputs": [
        {
          "output_type": "display_data",
          "data": {
            "image/png": "[encoded data removed]",
            "text/plain": [
              "<Figure size 432x288 with 1 Axes>"
            ]
          },
          "metadata": {
            "needs_background": "light"
          }
        }
      ],
      "source": [
        "history = np.array(history)\n",
        "plt.plot(history[:,0:2])\n",
        "plt.legend(['Tr Loss', 'Val Loss'])\n",
        "plt.xlabel('Epoch Number')\n",
        "plt.ylabel('Loss')\n",
        "plt.ylim(0,1)\n",
        "plt.show()"
      ]
    },
    {
      "cell_type": "code",
      "execution_count": null,
      "metadata": {
        "id": "uE2SS7VDa9Pm",
        "colab": {
          "base_uri": "https://localhost:8080/",
          "height": 283
        },
        "outputId": "fc77e602-e1aa-4bd0-9cf0-c23c82420ffd"
      },
      "outputs": [
        {
          "output_type": "display_data",
          "data": {
            "image/png": "[encoded data removed]",
            "text/plain": [
              "<Figure size 432x288 with 1 Axes>"
            ]
          },
          "metadata": {
            "needs_background": "light"
          }
        }
      ],
      "source": [
        "plt.plot(history[:,2:4])\n",
        "plt.legend(['Tr Accuracy', 'Val Accuracy'])\n",
        "plt.xlabel('Epoch Number')\n",
        "plt.ylabel('Accuracy')\n",
        "plt.ylim(0,1)\n",
        "plt.show()"
      ]
    },
    {
      "cell_type": "code",
      "execution_count": null,
      "metadata": {
        "id": "vRa8hEgca_Kv",
        "colab": {
          "base_uri": "https://localhost:8080/",
          "height": 356
        },
        "outputId": "d13c7b4b-19a6-4682-8135-d7a78d8338d4"
      },
      "outputs": [
        {
          "output_type": "stream",
          "name": "stderr",
          "text": [
            "Clipping input data to the valid range for imshow with RGB data ([0..1] for floats or [0..255] for integers).\n"
          ]
        },
        {
          "output_type": "stream",
          "name": "stdout",
          "text": [
            "Output we get\n",
            "good\n",
            "Actual output\n",
            "good\n"
          ]
        },
        {
          "output_type": "display_data",
          "data": {
            "image/png": "[encoded data removed]",
            "text/plain": [
              "<Figure size 432x288 with 1 Axes>"
            ]
          },
          "metadata": {
            "needs_background": "light"
          }
        }
      ],
      "source": [
        "img = training_data[0][0][0]\n",
        "img = img.swapaxes(0,1)\n",
        "img = img.swapaxes(1,2)\n",
        "plt.imshow(img)\n",
        "\n",
        "output = trained_model(training_data[0][0].to(device))\n",
        "label = training_data[0][1]\n",
        "\n",
        "\n",
        "if output[0][0] > output[0][1]:\n",
        "  out = 0\n",
        "else:\n",
        "  out = 1\n",
        "classes = [\"damaged\",\"good\"]\n",
        "print(\"Output we get\")\n",
        "print(classes[out])\n",
        "\n",
        "if label == torch.tensor([0]):\n",
        "  out1 = 0\n",
        "else:\n",
        "  out1 = 1\n",
        "print(\"Actual output\")\n",
        "print(classes[out1])"
      ]
    },
    {
      "cell_type": "code",
      "source": [
        "from sklearn.metrics import confusion_matrix\n",
        "import seaborn as sns\n",
        "\n",
        "cf_matrix = confusion_matrix(y_train,y_predicted)\n",
        "print(cf_matrix)"
      ],
      "metadata": {
        "id": "Isew2dQ5afeD",
        "colab": {
          "base_uri": "https://localhost:8080/"
        },
        "outputId": "c8cf471b-0c06-4d40-f908-8aba07f1628f"
      },
      "execution_count": null,
      "outputs": [
        {
          "output_type": "stream",
          "name": "stdout",
          "text": [
            "[[63 14]\n",
            " [ 8 36]]\n"
          ]
        }
      ]
    },
    {
      "cell_type": "code",
      "source": [
        "import seaborn as sns\n",
        "sns.heatmap(cf_matrix, annot=True)\n"
      ],
      "metadata": {
        "colab": {
          "base_uri": "https://localhost:8080/",
          "height": 282
        },
        "id": "qgK9iwBZpOud",
        "outputId": "8829dfef-7d33-42e5-a0d9-da37b319d2d3"
      },
      "execution_count": null,
      "outputs": [
        {
          "output_type": "execute_result",
          "data": {
            "text/plain": [
              "<matplotlib.axes._subplots.AxesSubplot at 0x7ff01a8bbb90>"
            ]
          },
          "metadata": {},
          "execution_count": 24
        },
        {
          "output_type": "display_data",
          "data": {
            "image/png": "[encoded data removed]",
            "text/plain": [
              "<Figure size 432x288 with 2 Axes>"
            ]
          },
          "metadata": {
            "needs_background": "light"
          }
        }
      ]
    },
    {
      "cell_type": "code",
      "source": [
        ""
      ],
      "metadata": {
        "id": "vHCxVYT6MN7t"
      },
      "execution_count": null,
      "outputs": []
    }
  ],
  "metadata": {
    "colab": {
      "name": "step_7a.ipynb",
      "provenance": [],
      "collapsed_sections": []
    },
    "kernelspec": {
      "display_name": "Python 3",
      "name": "python3"
    },
    "language_info": {
      "name": "python"
    },
    "accelerator": "GPU"
  },
  "nbformat": 4,
  "nbformat_minor": 0
}